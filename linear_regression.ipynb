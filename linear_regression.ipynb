{
 "cells": [
  {
   "cell_type": "code",
   "execution_count": null,
   "metadata": {},
   "outputs": [],
   "source": [
    "import pandas as pd\n",
    "import numpy as np\n",
    "import matplotlib.pyplot as plt\n",
    "import seaborn as sns\n",
    "\n",
    "# Sklearn imports\n",
    "from sklearn.model_selection import train_test_split\n",
    "# from sklearn.linear_model import LinearRegression\n",
    "from sklearn.preprocessing import StandardScaler\n",
    "from model import GradientDescentMultipleRegression \n",
    "\n",
    "from sklearn.metrics import mean_squared_error,r2_score"
   ]
  },
  {
   "cell_type": "code",
   "execution_count": null,
   "metadata": {},
   "outputs": [],
   "source": [
    "# Read the data\n",
    "data = pd.read_csv('data/Cellphone.csv')\n",
    "data.head()"
   ]
  },
  {
   "cell_type": "markdown",
   "metadata": {},
   "source": [
    "### Cleaning the data"
   ]
  },
  {
   "cell_type": "code",
   "execution_count": null,
   "metadata": {},
   "outputs": [],
   "source": [
    "# Check for missing values\n",
    "data.isnull().sum()"
   ]
  },
  {
   "cell_type": "code",
   "execution_count": null,
   "metadata": {},
   "outputs": [],
   "source": [
    "# Check for duplicated values\n",
    "data[data.duplicated()]"
   ]
  },
  {
   "cell_type": "code",
   "execution_count": null,
   "metadata": {},
   "outputs": [],
   "source": [
    "## Plot each feature against the target variable (Price)\n",
    "\n",
    "# Set the size and layout of the plot grid\n",
    "\n",
    "features = data.drop(\"Price\", axis = 1)\n",
    "target = data[\"Price\"]\n",
    "\n",
    "plt.figure(figsize=(20, 70))\n",
    "\n",
    "# Loop through each feature in the dataset\n",
    "for i, feature in enumerate(features.columns, 1):\n",
    "    plt.subplot(len(features.columns), 3, i)\n",
    "    sns.scatterplot(x=data[feature], y=target)\n",
    "    plt.xlabel(feature)\n",
    "    plt.ylabel(\"Price\")\n",
    "    plt.title(f\"Price vs {feature}\")\n",
    "\n",
    "plt.show()\n",
    "\n",
    "# Check if my assumptions are correct"
   ]
  },
  {
   "cell_type": "code",
   "execution_count": null,
   "metadata": {},
   "outputs": [],
   "source": [
    "# Remove 'Product_id' column since it's not needed\n",
    "data.drop('Product_id', inplace=True, axis=1)\n",
    "\n",
    "# Seperating out the independent and dependent variables\n",
    "X = data.drop(\"Price\", axis = 1)\n",
    "y = data[\"Price\"]\n"
   ]
  },
  {
   "cell_type": "code",
   "execution_count": null,
   "metadata": {},
   "outputs": [],
   "source": [
    "# Train Test Split - first split into train and test\n",
    "X_train, X_test, y_train, y_test = train_test_split(X, y, test_size=0.1, random_state=42)\n",
    "\n",
    "# Then split training data into train and validation sets\n",
    "X_train, X_val, y_train, y_val = train_test_split(X_train, y_train, test_size=0.2, random_state=42)\n",
    "\n",
    "# Using StandardScaler to standardize the features\n",
    "scaler_X = StandardScaler()\n",
    "\n",
    "# Transform training, validation, and test sets\n",
    "X_train = scaler_X.fit_transform(X_train)\n",
    "X_val = scaler_X.transform(X_val)\n",
    "X_test = scaler_X.transform(X_test)\n",
    "\n",
    "\n",
    "# Test default learning rate\n",
    "print(\"Testing with default learning rate (0.01):\")\n",
    "model = GradientDescentMultipleRegression(learning_rate=0.01, n_iterations=1000)\n",
    "model.fit(X_train, y_train)\n",
    "default_predictions = model.predict(X_test)\n",
    "\n",
    "\n",
    "\n",
    "# Evaluate default model\n",
    "print(\"Default Model Performance:\")\n",
    "print(f\"R² Score: {r2_score(y_test, default_predictions):.4f}\")\n",
    "print(f\"RMSE: {np.sqrt(mean_squared_error(y_test, default_predictions)):.4f}\")\n",
    "\n",
    "# Find the best learning rate using validation set\n",
    "print(\"\\nFinding best learning rate...\")\n",
    "model = GradientDescentMultipleRegression(n_iterations=1000)\n",
    "best_lr, results = model.find_best_learning_rate(X_train, y_train, X_val, y_val)\n",
    "print(f\"Best learning rate found: {best_lr}\")\n",
    "\n",
    "# Train final model with best learning rate on combined training data\n",
    "X_train_full = np.vstack([X_train, X_val])\n",
    "y_train_full = np.concatenate([y_train, y_val])\n",
    "\n",
    "print(\"\\nTraining final model with best learning rate...\")\n",
    "model.learning_rate = best_lr\n",
    "model.fit(X_train_full, y_train_full)\n",
    "\n",
    "# Make predictions\n",
    "predictions = model.predict(X_test)\n",
    "# predictions = scaler_y.inverse_transform(predictions_scaled.reshape(-1, 1)).ravel()\n",
    "\n",
    "# Evaluate optimized model\n",
    "print(\"\\nOptimized Model Performance:\")\n",
    "print(f\"R² Score: {r2_score(y_test, predictions):.4f}\")\n",
    "print(f\"RMSE: {np.sqrt(mean_squared_error(y_test, predictions)):.4f}\")"
   ]
  },
  {
   "cell_type": "code",
   "execution_count": null,
   "metadata": {},
   "outputs": [],
   "source": [
    "# Plotting Actual vs Predicted values\n",
    "plt.figure(figsize=(10, 5))\n",
    "plt.scatter(y_test, predictions, color='blue')\n",
    "plt.plot([y_test.min(), y_test.max()], [y_test.min(), y_test.max()], 'r--', lw=2)\n",
    "plt.xlabel(\"Actual Values\")\n",
    "plt.ylabel(\"Predicted Values\")\n",
    "plt.title(\"Actual vs Predicted\")\n",
    "plt.show()\n",
    "\n",
    "# Plotting Residuals\n",
    "residuals = y_test - predictions\n",
    "plt.figure(figsize=(10, 5))\n",
    "plt.scatter(predictions, residuals, color='purple')\n",
    "plt.hlines(y=0, xmin=predictions.min(), xmax=predictions.max(), color='red', linestyles='--')\n",
    "plt.xlabel(\"Predicted Values\")\n",
    "plt.ylabel(\"Residuals\")\n",
    "plt.title(\"Residual Plot\")\n",
    "plt.show()\n",
    "\n",
    "# Histogram of Residuals\n",
    "plt.figure(figsize=(10, 5))\n",
    "plt.hist(residuals, bins=20, color='gray', edgecolor='black')\n",
    "plt.xlabel(\"Residuals\")\n",
    "plt.ylabel(\"Frequency\")\n",
    "plt.title(\"Residual Histogram\")\n",
    "plt.show()"
   ]
  }
 ],
 "metadata": {
  "kernelspec": {
   "display_name": "Python 3",
   "language": "python",
   "name": "python3"
  },
  "language_info": {
   "codemirror_mode": {
    "name": "ipython",
    "version": 3
   },
   "file_extension": ".py",
   "mimetype": "text/x-python",
   "name": "python",
   "nbconvert_exporter": "python",
   "pygments_lexer": "ipython3",
   "version": "3.12.4"
  }
 },
 "nbformat": 4,
 "nbformat_minor": 2
}
